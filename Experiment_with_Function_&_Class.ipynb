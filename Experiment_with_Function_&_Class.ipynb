{
  "nbformat": 4,
  "nbformat_minor": 0,
  "metadata": {
    "colab": {
      "name": "Experiment_with_Function_&_Class.ipynb",
      "provenance": []
    },
    "kernelspec": {
      "name": "python3",
      "display_name": "Python 3"
    }
  },
  "cells": [
    {
      "cell_type": "code",
      "metadata": {
        "id": "Q_aNf2YltpP5",
        "colab_type": "code",
        "colab": {}
      },
      "source": [
        "#I am going to test out some code on Class and function in this Note book. \n"
      ],
      "execution_count": 0,
      "outputs": []
    },
    {
      "cell_type": "code",
      "metadata": {
        "id": "53xDCHtWwKuv",
        "colab_type": "code",
        "colab": {}
      },
      "source": [
        "import numpy as np\n",
        "import matplotlib.pyplot as plt\n"
      ],
      "execution_count": 0,
      "outputs": []
    },
    {
      "cell_type": "code",
      "metadata": {
        "id": "cPC7KuevwUpL",
        "colab_type": "code",
        "colab": {
          "base_uri": "https://localhost:8080/",
          "height": 51
        },
        "outputId": "d3c2981a-0183-41f0-a224-fc3c430d935d"
      },
      "source": [
        "X = np.random.randn(10)\n",
        "X"
      ],
      "execution_count": 12,
      "outputs": [
        {
          "output_type": "execute_result",
          "data": {
            "text/plain": [
              "array([ 0.34284743, -0.17090917,  0.79937916, -0.00817792,  1.46004395,\n",
              "       -0.99288571,  0.41364757, -0.14182522,  0.25596576, -0.30097711])"
            ]
          },
          "metadata": {
            "tags": []
          },
          "execution_count": 12
        }
      ]
    },
    {
      "cell_type": "code",
      "metadata": {
        "id": "7XgP9A1TwZKK",
        "colab_type": "code",
        "colab": {
          "base_uri": "https://localhost:8080/",
          "height": 51
        },
        "outputId": "941370a1-6d36-4874-a131-752c4bf56b6f"
      },
      "source": [
        "Y = (10*X + 7)\n",
        "Y\n"
      ],
      "execution_count": 15,
      "outputs": [
        {
          "output_type": "execute_result",
          "data": {
            "text/plain": [
              "array([10.42847433,  5.29090826, 14.99379165,  6.91822076, 21.60043953,\n",
              "       -2.92885708, 11.13647569,  5.58174779,  9.55965758,  3.99022892])"
            ]
          },
          "metadata": {
            "tags": []
          },
          "execution_count": 15
        }
      ]
    },
    {
      "cell_type": "code",
      "metadata": {
        "id": "vv6Yag3swlvk",
        "colab_type": "code",
        "colab": {
          "base_uri": "https://localhost:8080/",
          "height": 51
        },
        "outputId": "cdadae9b-5f6a-4a15-c2ac-980762e5242a"
      },
      "source": [
        "def function1(X):\n",
        "  return (X*10 + 7)\n",
        "\n",
        "Y = function1(X)\n",
        "Y"
      ],
      "execution_count": 19,
      "outputs": [
        {
          "output_type": "execute_result",
          "data": {
            "text/plain": [
              "array([10.42847433,  5.29090826, 14.99379165,  6.91822076, 21.60043953,\n",
              "       -2.92885708, 11.13647569,  5.58174779,  9.55965758,  3.99022892])"
            ]
          },
          "metadata": {
            "tags": []
          },
          "execution_count": 19
        }
      ]
    },
    {
      "cell_type": "code",
      "metadata": {
        "id": "w3KD4cCCw42m",
        "colab_type": "code",
        "colab": {}
      },
      "source": [
        "#you can see both the above outputs of Y are matching."
      ],
      "execution_count": 0,
      "outputs": []
    },
    {
      "cell_type": "code",
      "metadata": {
        "id": "uLMVcHqOxitx",
        "colab_type": "code",
        "colab": {
          "base_uri": "https://localhost:8080/",
          "height": 286
        },
        "outputId": "69ebf6fc-ec57-40c7-bbec-12b7fcf30d9b"
      },
      "source": [
        "plt.plot(X,Y)"
      ],
      "execution_count": 24,
      "outputs": [
        {
          "output_type": "execute_result",
          "data": {
            "text/plain": [
              "[<matplotlib.lines.Line2D at 0x7f57a7304ac8>]"
            ]
          },
          "metadata": {
            "tags": []
          },
          "execution_count": 24
        },
        {
          "output_type": "display_data",
          "data": {
            "image/png": "[encoded data removed]",
            "text/plain": [
              "<Figure size 432x288 with 1 Axes>"
            ]
          },
          "metadata": {
            "tags": []
          }
        }
      ]
    },
    {
      "cell_type": "code",
      "metadata": {
        "id": "oxy9m28nxzox",
        "colab_type": "code",
        "colab": {}
      },
      "source": [
        "#creation of a class\n",
        "class randommovie(): \n",
        "  def __init__(self,name ,hero):\n",
        "    self.variable1 = name\n",
        "    self.variable2 = hero\n",
        "  def function(self):\n",
        "    print (\"this is a random output\")\n",
        " "
      ],
      "execution_count": 0,
      "outputs": []
    },
    {
      "cell_type": "code",
      "metadata": {
        "id": "boJBxxnQy3p1",
        "colab_type": "code",
        "colab": {
          "base_uri": "https://localhost:8080/",
          "height": 34
        },
        "outputId": "6ae733dd-4f39-48a7-ade4-a7cec2bc1f50"
      },
      "source": [
        "a = randommovie('kadgam','Srikanth')\n",
        "a.variable1"
      ],
      "execution_count": 60,
      "outputs": [
        {
          "output_type": "execute_result",
          "data": {
            "text/plain": [
              "'kadgam'"
            ]
          },
          "metadata": {
            "tags": []
          },
          "execution_count": 60
        }
      ]
    },
    {
      "cell_type": "code",
      "metadata": {
        "id": "d9GpybdSy6Jc",
        "colab_type": "code",
        "colab": {
          "base_uri": "https://localhost:8080/",
          "height": 34
        },
        "outputId": "4c206255-387a-435c-bbdd-a39c49b55193"
      },
      "source": [
        "a.variable2\n",
        "\n"
      ],
      "execution_count": 62,
      "outputs": [
        {
          "output_type": "execute_result",
          "data": {
            "text/plain": [
              "'Srikanth'"
            ]
          },
          "metadata": {
            "tags": []
          },
          "execution_count": 62
        }
      ]
    },
    {
      "cell_type": "code",
      "metadata": {
        "id": "T6Iq8vSTy91I",
        "colab_type": "code",
        "colab": {
          "base_uri": "https://localhost:8080/",
          "height": 34
        },
        "outputId": "7ef8bb9c-9425-4be6-c926-add738dfa797"
      },
      "source": [
        "a.function()"
      ],
      "execution_count": 63,
      "outputs": [
        {
          "output_type": "stream",
          "text": [
            "this is a random output\n"
          ],
          "name": "stdout"
        }
      ]
    },
    {
      "cell_type": "code",
      "metadata": {
        "id": "PArFeGpi10P-",
        "colab_type": "code",
        "colab": {}
      },
      "source": [
        "   "
      ],
      "execution_count": 0,
      "outputs": []
    }
  ]
}