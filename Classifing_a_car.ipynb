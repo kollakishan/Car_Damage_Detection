{
  "nbformat": 4,
  "nbformat_minor": 0,
  "metadata": {
    "colab": {
      "name": "Classifing_a_car.ipynb",
      "provenance": [],
      "collapsed_sections": [],
      "toc_visible": true
    },
    "kernelspec": {
      "name": "python3",
      "display_name": "Python 3"
    }
  },
  "cells": [
    {
      "cell_type": "markdown",
      "metadata": {
        "id": "IvVLXNVq-IUe",
        "colab_type": "text"
      },
      "source": [
        "# FULL STACK APPLICATION ON TRANSFER LEARNING WITH VGG16 FOR IMAGE CLASSIFICATION "
      ]
    },
    {
      "cell_type": "markdown",
      "metadata": {
        "id": "GTf1VxQQ8x34",
        "colab_type": "text"
      },
      "source": [
        "### Hello Team, this is a part of the code.\n",
        "### Team members : Pranaya,Satya, Kishan.\n",
        "### will be explaining every step in the code. keep yourself updated with this file in my Github, as I will be updating it frequently.\n",
        "### you may have to load the images and the imagenet json file to see this code running."
      ]
    },
    {
      "cell_type": "code",
      "metadata": {
        "id": "yiZuHDHb_POV",
        "colab_type": "code",
        "colab": {}
      },
      "source": [
        "#This section imports the packages required for the code below\n",
        "import numpy as np    #numpy deals mostly with the numarical operations\n",
        "import json           "
      ],
      "execution_count": 0,
      "outputs": []
    },
    {
      "cell_type": "code",
      "metadata": {
        "id": "x69XhhXS_Wm5",
        "colab_type": "code",
        "outputId": "1d856a7e-4172-4e2d-9e5d-aa0594511886",
        "colab": {
          "base_uri": "https://localhost:8080/",
          "height": 34
        }
      },
      "source": [
        "from keras.applications.vgg16 import VGG16                         #VGG16 is a pretrained model Made by researchers at oxford, i guess..\n",
        "from keras.preprocessing.image import img_to_array, load_img       #This helps in importing all the tools required for pre-processing an image of any size to the required size and shape\n",
        "from keras.applications.imagenet_utils import preprocess_input     #This is a database of images."
      ],
      "execution_count": 3,
      "outputs": [
        {
          "output_type": "stream",
          "text": [
            "Using TensorFlow backend.\n"
          ],
          "name": "stderr"
        }
      ]
    },
    {
      "cell_type": "code",
      "metadata": {
        "id": "1LV4mngS_zI8",
        "colab_type": "code",
        "colab": {}
      },
      "source": [
        "vgg16 = VGG16(weights = 'imagenet')     #Getting the image weights from VGG16"
      ],
      "execution_count": 0,
      "outputs": []
    },
    {
      "cell_type": "code",
      "metadata": {
        "id": "05yVAFWpArRk",
        "colab_type": "code",
        "colab": {}
      },
      "source": [
        "vgg16.save('vgg16.h5') #saving the vgg16 data to vgg16.h5 file."
      ],
      "execution_count": 0,
      "outputs": []
    },
    {
      "cell_type": "markdown",
      "metadata": {
        "id": "sT2FefoN_8_f",
        "colab_type": "text"
      },
      "source": [
        "# The inpot image must be modified in such a way that vgg16 can understand it. \n",
        "\n",
        "# so we perform pre processing tasks on the input image.\n"
      ]
    },
    {
      "cell_type": "code",
      "metadata": {
        "id": "h4WCh1Q4CCRB",
        "colab_type": "code",
        "colab": {}
      },
      "source": [
        "def image_preprocesss(image_path):     #we have defined a function\n",
        "  image = load_img(image_path, target_size=(224, 224))  #loading image to an object image\n",
        "  v1 = img_to_array(image)                      #converting image to an arrat and save it to v1\n",
        "  v1 = np.expand_dims(v1, axis = 0)       #We are trying to expand the dimensions\n",
        "  v1 = preprocess_input(v1)           \n",
        "  return v1              "
      ],
      "execution_count": 0,
      "outputs": []
    },
    {
      "cell_type": "markdown",
      "metadata": {
        "id": "XWvM1FnZBLJb",
        "colab_type": "text"
      },
      "source": [
        "# Inputing the Image"
      ]
    },
    {
      "cell_type": "code",
      "metadata": {
        "id": "lpPeGOijFx7X",
        "colab_type": "code",
        "outputId": "8ad1c2c9-d423-48fc-bfc9-263842e9760c",
        "colab": {
          "base_uri": "https://localhost:8080/",
          "height": 34
        }
      },
      "source": [
        "#preprocessing the image by calling the above method\n",
        "y = image_preprocesss(\"/content/maxresdefault.jpg\")  #this is where we have entered the image\n",
        "y.shape                   # this gives us the shape of the image (x,x,3)"
      ],
      "execution_count": 7,
      "outputs": [
        {
          "output_type": "execute_result",
          "data": {
            "text/plain": [
              "(1, 224, 224, 3)"
            ]
          },
          "metadata": {
            "tags": []
          },
          "execution_count": 7
        }
      ]
    },
    {
      "cell_type": "code",
      "metadata": {
        "id": "3nO9BlUkJniV",
        "colab_type": "code",
        "colab": {}
      },
      "source": [
        "predictions = vgg16.predict(y) #now we pass the image to VGG16 for it to compare"
      ],
      "execution_count": 0,
      "outputs": []
    },
    {
      "cell_type": "code",
      "metadata": {
        "id": "3OigEtCJJ822",
        "colab_type": "code",
        "outputId": "d24b1add-898d-4917-bee5-d68849c0298a",
        "colab": {
          "base_uri": "https://localhost:8080/",
          "height": 34
        }
      },
      "source": [
        "predictions.shape  #obviously, this gives the shape of the result from the comparision"
      ],
      "execution_count": 9,
      "outputs": [
        {
          "output_type": "execute_result",
          "data": {
            "text/plain": [
              "(1, 1000)"
            ]
          },
          "metadata": {
            "tags": []
          },
          "execution_count": 9
        }
      ]
    },
    {
      "cell_type": "code",
      "metadata": {
        "id": "KRRMOcFCOmJw",
        "colab_type": "code",
        "colab": {}
      },
      "source": [
        "predictions  #this shows the probability of the input image compared to the 1000 images"
      ],
      "execution_count": 0,
      "outputs": []
    },
    {
      "cell_type": "code",
      "metadata": {
        "id": "wP-6LqElPPt9",
        "colab_type": "code",
        "colab": {}
      },
      "source": [
        "CLASS_INDEX = None\n",
        "CLASS_INDEX_FILE = 'imagenet-class-index.json'  #we are inputing the imagenet file here"
      ],
      "execution_count": 0,
      "outputs": []
    },
    {
      "cell_type": "code",
      "metadata": {
        "id": "5afpvCVE9xsz",
        "colab_type": "code",
        "colab": {}
      },
      "source": [
        "def get_predictions(predictions,top=5):\n",
        "    global CLASS_INDEX\n",
        "    \n",
        "                              #Load the jason file\n",
        "    CLASS_INDEX = json.load(open(CLASS_INDEX_FILE))\n",
        "    \n",
        "                               #get the results\n",
        "    results = []\n",
        "    for pred in predictions:\n",
        "        top_indices = pred.argsort()[-top:][::-1]    #this is an sorting algorithm \n",
        "        result = [tuple(CLASS_INDEX[str(i)]) + (pred[i],) for i in top_indices]   \n",
        "        result.sort(key=lambda x: x[2], reverse=True)\n",
        "        results.append(result)\n",
        "    return results"
      ],
      "execution_count": 0,
      "outputs": []
    },
    {
      "cell_type": "markdown",
      "metadata": {
        "id": "HSvFzPqkJznF",
        "colab_type": "text"
      },
      "source": [
        "*italicized text*### #here are the top predictions, the model thinks the image we provided is of a sports car with 41% accuracy, and 30% it thinks it is a racer."
      ]
    },
    {
      "cell_type": "code",
      "metadata": {
        "id": "x63zayYrDq_t",
        "colab_type": "code",
        "outputId": "56f7a83e-c843-48b0-f9a3-e684d7dc7619",
        "colab": {
          "base_uri": "https://localhost:8080/",
          "height": 54
        }
      },
      "source": [
        "print (get_predictions(predictions, top=5)) "
      ],
      "execution_count": 13,
      "outputs": [
        {
          "output_type": "stream",
          "text": [
            "[[('n04285008', 'sports_car', 0.41960648), ('n04037443', 'racer', 0.30059162), ('n02974003', 'car_wheel', 0.05825078), ('n03459775', 'grille', 0.052074384), ('n03100240', 'convertible', 0.035299093)]]\n"
          ],
          "name": "stdout"
        }
      ]
    },
    {
      "cell_type": "code",
      "metadata": {
        "id": "n4QLnbBhsUkg",
        "colab_type": "code",
        "colab": {}
      },
      "source": [
        "from collections import Counter, defaultdict  #we are importing counter and default dictionary from collections\n",
        "import os  #we use this so that we can create/change directory."
      ],
      "execution_count": 0,
      "outputs": []
    },
    {
      "cell_type": "code",
      "metadata": {
        "id": "SAz8RAxOeGk6",
        "colab_type": "code",
        "colab": {}
      },
      "source": [
        "!unzip data1a.zip"
      ],
      "execution_count": 0,
      "outputs": []
    },
    {
      "cell_type": "code",
      "metadata": {
        "id": "fyvQu416bEn6",
        "colab_type": "code",
        "colab": {}
      },
      "source": [
        "#def get_car_cateories():\n",
        " # d = defaultdict(float)\n",
        " # img_list = os.listdir(\"/content/data1a/training/01-whole\") #we are loding all the images to the list.\n",
        "  \n",
        " # for i, img_path in enumerate(img_list):   # i is the position, img_path is the lable we pass\n",
        " #   img = image_preprocesss('/content/data1a/training/01-whole/'+img_path)  # we prepare the image one at a time\n",
        "  #  out = vgg16.predict(img)         #then we perform prediction on the image\n",
        "   # top = get_predictions(out, top = 5)  #this gives top five predictions\n",
        "    \n",
        "    # we are going to save predictions and probability\n",
        "   # for j in top[0]:\n",
        "     # d[j[0:2]] += j[2]\n",
        "    # we are going to print the progress for every hundred images. \n",
        "    #if i % 100 == 0:\n",
        "     # print(i, '/', len(img_list), 'complete')\n",
        "      \n",
        "  #return Counter(d)    \n"
      ],
      "execution_count": 0,
      "outputs": []
    },
    {
      "cell_type": "code",
      "metadata": {
        "id": "X2B4YfwQ3a_1",
        "colab_type": "code",
        "colab": {}
      },
      "source": [
        "def get_car_categories():\n",
        "    d = defaultdict(float)\n",
        "    img_list = os.listdir('/content/data1a/training/01-whole')\n",
        "    for i, img_path in enumerate(img_list):\n",
        "        img = image_preprocesss('/content/data1a/training/01-whole/'+img_path)\n",
        "        out = vgg16.predict(img)\n",
        "        top = get_predictions(out, top=5)\n",
        "        for j in top[0]:\n",
        "            d[j[0:2]] += j[2]\n",
        "        if i % 100 == 0:\n",
        "            print (i, '/', len(img_list), 'complete')\n",
        "    return Counter(d)"
      ],
      "execution_count": 0,
      "outputs": []
    },
    {
      "cell_type": "code",
      "metadata": {
        "id": "95olfuWN5pBC",
        "colab_type": "code",
        "colab": {
          "base_uri": "https://localhost:8080/",
          "height": 187
        },
        "outputId": "40d7f9ba-8be6-4845-8d5a-2121dc0ff17c"
      },
      "source": [
        "cat_counter=get_car_categories()"
      ],
      "execution_count": 27,
      "outputs": [
        {
          "output_type": "stream",
          "text": [
            "0 / 920 complete\n",
            "100 / 920 complete\n",
            "200 / 920 complete\n",
            "300 / 920 complete\n",
            "400 / 920 complete\n",
            "500 / 920 complete\n",
            "600 / 920 complete\n",
            "700 / 920 complete\n",
            "800 / 920 complete\n",
            "900 / 920 complete\n"
          ],
          "name": "stdout"
        }
      ]
    },
    {
      "cell_type": "code",
      "metadata": {
        "id": "HcVfDxfw5rWu",
        "colab_type": "code",
        "colab": {}
      },
      "source": [
        ""
      ],
      "execution_count": 0,
      "outputs": []
    }
  ]
}