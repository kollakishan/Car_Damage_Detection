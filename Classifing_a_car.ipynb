{
  "nbformat": 4,
  "nbformat_minor": 0,
  "metadata": {
    "colab": {
      "name": "Classifing_a_car.ipynb",
      "provenance": [],
      "collapsed_sections": []
    },
    "kernelspec": {
      "name": "python3",
      "display_name": "Python 3"
    }
  },
  "cells": [
    {
      "cell_type": "code",
      "metadata": {
        "id": "yiZuHDHb_POV",
        "colab_type": "code",
        "colab": {}
      },
      "source": [
        "#importing relevent packages\n",
        "import numpy as np\n",
        "import json"
      ],
      "execution_count": 0,
      "outputs": []
    },
    {
      "cell_type": "code",
      "metadata": {
        "id": "x69XhhXS_Wm5",
        "colab_type": "code",
        "colab": {}
      },
      "source": [
        "from keras.applications.vgg16 import VGG16\n",
        "from keras.preprocessing.image import img_to_array, load_img\n",
        "from keras.applications.imagenet_utils import preprocess_input"
      ],
      "execution_count": 0,
      "outputs": []
    },
    {
      "cell_type": "code",
      "metadata": {
        "id": "1LV4mngS_zI8",
        "colab_type": "code",
        "colab": {}
      },
      "source": [
        "#Getting the image weights from VGG16\n",
        "vgg16 = VGG16(weights = 'imagenet')"
      ],
      "execution_count": 0,
      "outputs": []
    },
    {
      "cell_type": "code",
      "metadata": {
        "id": "05yVAFWpArRk",
        "colab_type": "code",
        "colab": {}
      },
      "source": [
        "#saving the vgg16 data to vgg16.h5 file.\n",
        "vgg16.save('vgg16.h5')"
      ],
      "execution_count": 0,
      "outputs": []
    },
    {
      "cell_type": "code",
      "metadata": {
        "id": "h4WCh1Q4CCRB",
        "colab_type": "code",
        "colab": {}
      },
      "source": [
        "#Any image we have must be changed in a way that vgg16 can understand. so we perform some image pre processing tasks.\n",
        "\n",
        "def image_preprocesss(image_path):\n",
        "  image = load_img(image_path, target_size=(244,244))\n",
        "  variable1 = img_to_array(image)\n",
        "  variable1 = np.expand_dims(variable1, axis = 0)\n",
        "  variable1 = preprocess_input(variablel)\n",
        "  return variable1"
      ],
      "execution_count": 0,
      "outputs": []
    },
    {
      "cell_type": "code",
      "metadata": {
        "id": "lpPeGOijFx7X",
        "colab_type": "code",
        "colab": {}
      },
      "source": [
        ""
      ],
      "execution_count": 0,
      "outputs": []
    }
  ]
}